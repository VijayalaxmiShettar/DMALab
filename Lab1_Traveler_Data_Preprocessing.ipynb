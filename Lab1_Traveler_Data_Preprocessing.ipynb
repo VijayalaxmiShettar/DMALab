{
 "cells": [
  {
   "cell_type": "markdown",
   "metadata": {},
   "source": [
    "## Walkthrough of Data Science - Traveler\n",
    "\n",
    "### * Goal: Predict the country that users will make their first booking in, based on some basic user profile data."
   ]
  },
  {
   "cell_type": "markdown",
   "metadata": {},
   "source": [
    "## Walkthrough process\n",
    "\n",
    "#### [1] Pre-processing: Assessing and analyzing data, cleaning, transforming and adding new features\n",
    "#### [2] Learning model: Constructing and testing learning model\n",
    "#### [3] Post-processing: Creating final predictions"
   ]
  },
  {
   "cell_type": "code",
   "execution_count": 1,
   "metadata": {},
   "outputs": [
    {
     "name": "stdout",
     "output_type": "stream",
     "text": [
      "Populating the interactive namespace from numpy and matplotlib\n"
     ]
    },
    {
     "data": {
      "text/plain": [
       "Index([u'id', u'date_account_created', u'timestamp_first_active',\n",
       "       u'date_first_booking', u'gender', u'age', u'signup_method',\n",
       "       u'signup_flow', u'language', u'affiliate_channel',\n",
       "       u'affiliate_provider', u'first_affiliate_tracked', u'signup_app',\n",
       "       u'first_device_type', u'first_browser', u'country_destination'],\n",
       "      dtype='object')"
      ]
     },
     "execution_count": 1,
     "metadata": {},
     "output_type": "execute_result"
    }
   ],
   "source": [
    "##Exploring Traveler data\n",
    "import pandas as pd\n",
    "import matplotlib.pyplot as plt\n",
    "%pylab inline \n",
    "data =pd.read_csv(\"train_users_2.csv\")\n",
    "data.columns"
   ]
  },
  {
   "cell_type": "code",
   "execution_count": 8,
   "metadata": {},
   "outputs": [
    {
     "data": {
      "text/plain": [
       "(213451, 16)"
      ]
     },
     "execution_count": 8,
     "metadata": {},
     "output_type": "execute_result"
    }
   ],
   "source": [
    "data.shape"
   ]
  },
  {
   "cell_type": "code",
   "execution_count": 9,
   "metadata": {},
   "outputs": [
    {
     "data": {
      "text/html": [
       "<div>\n",
       "<style>\n",
       "    .dataframe thead tr:only-child th {\n",
       "        text-align: right;\n",
       "    }\n",
       "\n",
       "    .dataframe thead th {\n",
       "        text-align: left;\n",
       "    }\n",
       "\n",
       "    .dataframe tbody tr th {\n",
       "        vertical-align: top;\n",
       "    }\n",
       "</style>\n",
       "<table border=\"1\" class=\"dataframe\">\n",
       "  <thead>\n",
       "    <tr style=\"text-align: right;\">\n",
       "      <th></th>\n",
       "      <th>0</th>\n",
       "      <th>1</th>\n",
       "      <th>2</th>\n",
       "      <th>3</th>\n",
       "      <th>4</th>\n",
       "    </tr>\n",
       "  </thead>\n",
       "  <tbody>\n",
       "    <tr>\n",
       "      <th>id</th>\n",
       "      <td>gxn3p5htnn</td>\n",
       "      <td>820tgsjxq7</td>\n",
       "      <td>4ft3gnwmtx</td>\n",
       "      <td>bjjt8pjhuk</td>\n",
       "      <td>87mebub9p4</td>\n",
       "    </tr>\n",
       "    <tr>\n",
       "      <th>date_account_created</th>\n",
       "      <td>2010-06-28</td>\n",
       "      <td>2011-05-25</td>\n",
       "      <td>2010-09-28</td>\n",
       "      <td>2011-12-05</td>\n",
       "      <td>2010-09-14</td>\n",
       "    </tr>\n",
       "    <tr>\n",
       "      <th>timestamp_first_active</th>\n",
       "      <td>20090319043255</td>\n",
       "      <td>20090523174809</td>\n",
       "      <td>20090609231247</td>\n",
       "      <td>20091031060129</td>\n",
       "      <td>20091208061105</td>\n",
       "    </tr>\n",
       "    <tr>\n",
       "      <th>date_first_booking</th>\n",
       "      <td>NaN</td>\n",
       "      <td>NaN</td>\n",
       "      <td>2010-08-02</td>\n",
       "      <td>2012-09-08</td>\n",
       "      <td>2010-02-18</td>\n",
       "    </tr>\n",
       "    <tr>\n",
       "      <th>gender</th>\n",
       "      <td>-unknown-</td>\n",
       "      <td>MALE</td>\n",
       "      <td>FEMALE</td>\n",
       "      <td>FEMALE</td>\n",
       "      <td>-unknown-</td>\n",
       "    </tr>\n",
       "    <tr>\n",
       "      <th>age</th>\n",
       "      <td>NaN</td>\n",
       "      <td>38</td>\n",
       "      <td>56</td>\n",
       "      <td>42</td>\n",
       "      <td>41</td>\n",
       "    </tr>\n",
       "    <tr>\n",
       "      <th>signup_method</th>\n",
       "      <td>facebook</td>\n",
       "      <td>facebook</td>\n",
       "      <td>basic</td>\n",
       "      <td>facebook</td>\n",
       "      <td>basic</td>\n",
       "    </tr>\n",
       "    <tr>\n",
       "      <th>signup_flow</th>\n",
       "      <td>0</td>\n",
       "      <td>0</td>\n",
       "      <td>3</td>\n",
       "      <td>0</td>\n",
       "      <td>0</td>\n",
       "    </tr>\n",
       "    <tr>\n",
       "      <th>language</th>\n",
       "      <td>en</td>\n",
       "      <td>en</td>\n",
       "      <td>en</td>\n",
       "      <td>en</td>\n",
       "      <td>en</td>\n",
       "    </tr>\n",
       "    <tr>\n",
       "      <th>affiliate_channel</th>\n",
       "      <td>direct</td>\n",
       "      <td>seo</td>\n",
       "      <td>direct</td>\n",
       "      <td>direct</td>\n",
       "      <td>direct</td>\n",
       "    </tr>\n",
       "    <tr>\n",
       "      <th>affiliate_provider</th>\n",
       "      <td>direct</td>\n",
       "      <td>google</td>\n",
       "      <td>direct</td>\n",
       "      <td>direct</td>\n",
       "      <td>direct</td>\n",
       "    </tr>\n",
       "    <tr>\n",
       "      <th>first_affiliate_tracked</th>\n",
       "      <td>untracked</td>\n",
       "      <td>untracked</td>\n",
       "      <td>untracked</td>\n",
       "      <td>untracked</td>\n",
       "      <td>untracked</td>\n",
       "    </tr>\n",
       "    <tr>\n",
       "      <th>signup_app</th>\n",
       "      <td>Web</td>\n",
       "      <td>Web</td>\n",
       "      <td>Web</td>\n",
       "      <td>Web</td>\n",
       "      <td>Web</td>\n",
       "    </tr>\n",
       "    <tr>\n",
       "      <th>first_device_type</th>\n",
       "      <td>Mac Desktop</td>\n",
       "      <td>Mac Desktop</td>\n",
       "      <td>Windows Desktop</td>\n",
       "      <td>Mac Desktop</td>\n",
       "      <td>Mac Desktop</td>\n",
       "    </tr>\n",
       "    <tr>\n",
       "      <th>first_browser</th>\n",
       "      <td>Chrome</td>\n",
       "      <td>Chrome</td>\n",
       "      <td>IE</td>\n",
       "      <td>Firefox</td>\n",
       "      <td>Chrome</td>\n",
       "    </tr>\n",
       "    <tr>\n",
       "      <th>country_destination</th>\n",
       "      <td>NDF</td>\n",
       "      <td>NDF</td>\n",
       "      <td>US</td>\n",
       "      <td>other</td>\n",
       "      <td>US</td>\n",
       "    </tr>\n",
       "  </tbody>\n",
       "</table>\n",
       "</div>"
      ],
      "text/plain": [
       "                                      0               1                2  \\\n",
       "id                           gxn3p5htnn      820tgsjxq7       4ft3gnwmtx   \n",
       "date_account_created         2010-06-28      2011-05-25       2010-09-28   \n",
       "timestamp_first_active   20090319043255  20090523174809   20090609231247   \n",
       "date_first_booking                  NaN             NaN       2010-08-02   \n",
       "gender                        -unknown-            MALE           FEMALE   \n",
       "age                                 NaN              38               56   \n",
       "signup_method                  facebook        facebook            basic   \n",
       "signup_flow                           0               0                3   \n",
       "language                             en              en               en   \n",
       "affiliate_channel                direct             seo           direct   \n",
       "affiliate_provider               direct          google           direct   \n",
       "first_affiliate_tracked       untracked       untracked        untracked   \n",
       "signup_app                          Web             Web              Web   \n",
       "first_device_type           Mac Desktop     Mac Desktop  Windows Desktop   \n",
       "first_browser                    Chrome          Chrome               IE   \n",
       "country_destination                 NDF             NDF               US   \n",
       "\n",
       "                                      3               4  \n",
       "id                           bjjt8pjhuk      87mebub9p4  \n",
       "date_account_created         2011-12-05      2010-09-14  \n",
       "timestamp_first_active   20091031060129  20091208061105  \n",
       "date_first_booking           2012-09-08      2010-02-18  \n",
       "gender                           FEMALE       -unknown-  \n",
       "age                                  42              41  \n",
       "signup_method                  facebook           basic  \n",
       "signup_flow                           0               0  \n",
       "language                             en              en  \n",
       "affiliate_channel                direct          direct  \n",
       "affiliate_provider               direct          direct  \n",
       "first_affiliate_tracked       untracked       untracked  \n",
       "signup_app                          Web             Web  \n",
       "first_device_type           Mac Desktop     Mac Desktop  \n",
       "first_browser                   Firefox          Chrome  \n",
       "country_destination               other              US  "
      ]
     },
     "execution_count": 9,
     "metadata": {},
     "output_type": "execute_result"
    }
   ],
   "source": [
    "data.head().transpose()"
   ]
  },
  {
   "cell_type": "code",
   "execution_count": 10,
   "metadata": {},
   "outputs": [
    {
     "data": {
      "text/plain": [
       "id                         213451\n",
       "date_account_created       213451\n",
       "timestamp_first_active     213451\n",
       "date_first_booking          88908\n",
       "gender                     213451\n",
       "age                        125461\n",
       "signup_method              213451\n",
       "signup_flow                213451\n",
       "language                   213451\n",
       "affiliate_channel          213451\n",
       "affiliate_provider         213451\n",
       "first_affiliate_tracked    207386\n",
       "signup_app                 213451\n",
       "first_device_type          213451\n",
       "first_browser              213451\n",
       "country_destination        213451\n",
       "dtype: int64"
      ]
     },
     "execution_count": 10,
     "metadata": {},
     "output_type": "execute_result"
    }
   ],
   "source": [
    "data.count()"
   ]
  },
  {
   "cell_type": "code",
   "execution_count": null,
   "metadata": {
    "collapsed": true
   },
   "outputs": [],
   "source": []
  }
 ],
 "metadata": {
  "kernelspec": {
   "display_name": "Python 2",
   "language": "python",
   "name": "python2"
  },
  "language_info": {
   "codemirror_mode": {
    "name": "ipython",
    "version": 2
   },
   "file_extension": ".py",
   "mimetype": "text/x-python",
   "name": "python",
   "nbconvert_exporter": "python",
   "pygments_lexer": "ipython2",
   "version": "2.7.13"
  }
 },
 "nbformat": 4,
 "nbformat_minor": 1
}
